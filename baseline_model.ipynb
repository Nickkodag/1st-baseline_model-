{
  "nbformat": 4,
  "nbformat_minor": 0,
  "metadata": {
    "colab": {
      "name": "baseline_model.ipynb",
      "provenance": []
    },
    "kernelspec": {
      "name": "python3",
      "display_name": "Python 3"
    }
  },
  "cells": [
    {
      "cell_type": "code",
      "metadata": {
        "id": "7uEZdm4jTlTg",
        "outputId": "648e0d5e-e537-4a95-a278-03321deb8935",
        "colab": {
          "base_uri": "https://localhost:8080/"
        }
      },
      "source": [
        "#baseline model [bssic base line model] \n",
        "!pip install pywedge\n",
        "import pywedge as pw\n",
        "import pandas as pd\n",
        "train = pd.read_csv('https://raw.githubusercontent.com/taknev83/datasets/master/train_crosssell_classification.csv')\n",
        "test = pd.read_csv('https://raw.githubusercontent.com/taknev83/datasets/master/test_crosssell_classification.csv')\n",
        "sample_submission = pd.read_csv('https://raw.githubusercontent.com/taknev83/datasets/master/sample_submission_crosssell_classification.csv')\n",
        "train.info()\n"
      ],
      "execution_count": 2,
      "outputs": [
        {
          "output_type": "stream",
          "text": [
            "Collecting pywedge\n",
            "  Downloading https://files.pythonhosted.org/packages/7c/2d/b48d71a6b9d296d081cef2e2bbe2375fc2f880985f2e995d45e426f7bb25/pywedge-0.4.8-py3-none-any.whl\n",
            "Requirement already satisfied: numpy in /usr/local/lib/python3.6/dist-packages (from pywedge) (1.18.5)\n",
            "Requirement already satisfied: pandas in /usr/local/lib/python3.6/dist-packages (from pywedge) (1.1.4)\n",
            "Requirement already satisfied: scikit-learn in /usr/local/lib/python3.6/dist-packages (from pywedge) (0.22.2.post1)\n",
            "Collecting catboost\n",
            "\u001b[?25l  Downloading https://files.pythonhosted.org/packages/52/39/128fff65072c8327371e3c594f3c826d29c85b21cb6485980353b168e0e4/catboost-0.24.2-cp36-none-manylinux1_x86_64.whl (66.1MB)\n",
            "\u001b[K     |████████████████████████████████| 66.2MB 68kB/s \n",
            "\u001b[?25hRequirement already satisfied: xgboost in /usr/local/lib/python3.6/dist-packages (from pywedge) (0.90)\n",
            "Requirement already satisfied: jupyter in /usr/local/lib/python3.6/dist-packages (from pywedge) (1.0.0)\n",
            "Requirement already satisfied: imbalanced-learn in /usr/local/lib/python3.6/dist-packages (from pywedge) (0.4.3)\n",
            "Requirement already satisfied: pytz>=2017.2 in /usr/local/lib/python3.6/dist-packages (from pandas->pywedge) (2018.9)\n",
            "Requirement already satisfied: python-dateutil>=2.7.3 in /usr/local/lib/python3.6/dist-packages (from pandas->pywedge) (2.8.1)\n",
            "Requirement already satisfied: scipy>=0.17.0 in /usr/local/lib/python3.6/dist-packages (from scikit-learn->pywedge) (1.4.1)\n",
            "Requirement already satisfied: joblib>=0.11 in /usr/local/lib/python3.6/dist-packages (from scikit-learn->pywedge) (0.17.0)\n",
            "Requirement already satisfied: plotly in /usr/local/lib/python3.6/dist-packages (from catboost->pywedge) (4.4.1)\n",
            "Requirement already satisfied: six in /usr/local/lib/python3.6/dist-packages (from catboost->pywedge) (1.15.0)\n",
            "Requirement already satisfied: matplotlib in /usr/local/lib/python3.6/dist-packages (from catboost->pywedge) (3.2.2)\n",
            "Requirement already satisfied: graphviz in /usr/local/lib/python3.6/dist-packages (from catboost->pywedge) (0.10.1)\n",
            "Requirement already satisfied: jupyter-console in /usr/local/lib/python3.6/dist-packages (from jupyter->pywedge) (5.2.0)\n",
            "Requirement already satisfied: ipykernel in /usr/local/lib/python3.6/dist-packages (from jupyter->pywedge) (4.10.1)\n",
            "Requirement already satisfied: ipywidgets in /usr/local/lib/python3.6/dist-packages (from jupyter->pywedge) (7.5.1)\n",
            "Requirement already satisfied: notebook in /usr/local/lib/python3.6/dist-packages (from jupyter->pywedge) (5.3.1)\n",
            "Requirement already satisfied: nbconvert in /usr/local/lib/python3.6/dist-packages (from jupyter->pywedge) (5.6.1)\n",
            "Requirement already satisfied: qtconsole in /usr/local/lib/python3.6/dist-packages (from jupyter->pywedge) (4.7.7)\n",
            "Requirement already satisfied: retrying>=1.3.3 in /usr/local/lib/python3.6/dist-packages (from plotly->catboost->pywedge) (1.3.3)\n",
            "Requirement already satisfied: cycler>=0.10 in /usr/local/lib/python3.6/dist-packages (from matplotlib->catboost->pywedge) (0.10.0)\n",
            "Requirement already satisfied: kiwisolver>=1.0.1 in /usr/local/lib/python3.6/dist-packages (from matplotlib->catboost->pywedge) (1.3.1)\n",
            "Requirement already satisfied: pyparsing!=2.0.4,!=2.1.2,!=2.1.6,>=2.0.1 in /usr/local/lib/python3.6/dist-packages (from matplotlib->catboost->pywedge) (2.4.7)\n",
            "Requirement already satisfied: pygments in /usr/local/lib/python3.6/dist-packages (from jupyter-console->jupyter->pywedge) (2.6.1)\n",
            "Requirement already satisfied: ipython in /usr/local/lib/python3.6/dist-packages (from jupyter-console->jupyter->pywedge) (5.5.0)\n",
            "Requirement already satisfied: prompt-toolkit<2.0.0,>=1.0.0 in /usr/local/lib/python3.6/dist-packages (from jupyter-console->jupyter->pywedge) (1.0.18)\n",
            "Requirement already satisfied: jupyter-client in /usr/local/lib/python3.6/dist-packages (from jupyter-console->jupyter->pywedge) (5.3.5)\n",
            "Requirement already satisfied: tornado>=4.0 in /usr/local/lib/python3.6/dist-packages (from ipykernel->jupyter->pywedge) (5.1.1)\n",
            "Requirement already satisfied: traitlets>=4.1.0 in /usr/local/lib/python3.6/dist-packages (from ipykernel->jupyter->pywedge) (4.3.3)\n",
            "Requirement already satisfied: nbformat>=4.2.0 in /usr/local/lib/python3.6/dist-packages (from ipywidgets->jupyter->pywedge) (5.0.8)\n",
            "Requirement already satisfied: widgetsnbextension~=3.5.0 in /usr/local/lib/python3.6/dist-packages (from ipywidgets->jupyter->pywedge) (3.5.1)\n",
            "Requirement already satisfied: Send2Trash in /usr/local/lib/python3.6/dist-packages (from notebook->jupyter->pywedge) (1.5.0)\n",
            "Requirement already satisfied: ipython-genutils in /usr/local/lib/python3.6/dist-packages (from notebook->jupyter->pywedge) (0.2.0)\n",
            "Requirement already satisfied: terminado>=0.8.1 in /usr/local/lib/python3.6/dist-packages (from notebook->jupyter->pywedge) (0.9.1)\n",
            "Requirement already satisfied: jupyter-core>=4.4.0 in /usr/local/lib/python3.6/dist-packages (from notebook->jupyter->pywedge) (4.6.3)\n",
            "Requirement already satisfied: jinja2 in /usr/local/lib/python3.6/dist-packages (from notebook->jupyter->pywedge) (2.11.2)\n",
            "Requirement already satisfied: mistune<2,>=0.8.1 in /usr/local/lib/python3.6/dist-packages (from nbconvert->jupyter->pywedge) (0.8.4)\n",
            "Requirement already satisfied: entrypoints>=0.2.2 in /usr/local/lib/python3.6/dist-packages (from nbconvert->jupyter->pywedge) (0.3)\n",
            "Requirement already satisfied: defusedxml in /usr/local/lib/python3.6/dist-packages (from nbconvert->jupyter->pywedge) (0.6.0)\n",
            "Requirement already satisfied: testpath in /usr/local/lib/python3.6/dist-packages (from nbconvert->jupyter->pywedge) (0.4.4)\n",
            "Requirement already satisfied: bleach in /usr/local/lib/python3.6/dist-packages (from nbconvert->jupyter->pywedge) (3.2.1)\n",
            "Requirement already satisfied: pandocfilters>=1.4.1 in /usr/local/lib/python3.6/dist-packages (from nbconvert->jupyter->pywedge) (1.4.3)\n",
            "Requirement already satisfied: qtpy in /usr/local/lib/python3.6/dist-packages (from qtconsole->jupyter->pywedge) (1.9.0)\n",
            "Requirement already satisfied: pyzmq>=17.1 in /usr/local/lib/python3.6/dist-packages (from qtconsole->jupyter->pywedge) (19.0.2)\n",
            "Requirement already satisfied: pickleshare in /usr/local/lib/python3.6/dist-packages (from ipython->jupyter-console->jupyter->pywedge) (0.7.5)\n",
            "Requirement already satisfied: pexpect; sys_platform != \"win32\" in /usr/local/lib/python3.6/dist-packages (from ipython->jupyter-console->jupyter->pywedge) (4.8.0)\n",
            "Requirement already satisfied: setuptools>=18.5 in /usr/local/lib/python3.6/dist-packages (from ipython->jupyter-console->jupyter->pywedge) (50.3.2)\n",
            "Requirement already satisfied: simplegeneric>0.8 in /usr/local/lib/python3.6/dist-packages (from ipython->jupyter-console->jupyter->pywedge) (0.8.1)\n",
            "Requirement already satisfied: decorator in /usr/local/lib/python3.6/dist-packages (from ipython->jupyter-console->jupyter->pywedge) (4.4.2)\n",
            "Requirement already satisfied: wcwidth in /usr/local/lib/python3.6/dist-packages (from prompt-toolkit<2.0.0,>=1.0.0->jupyter-console->jupyter->pywedge) (0.2.5)\n",
            "Requirement already satisfied: jsonschema!=2.5.0,>=2.4 in /usr/local/lib/python3.6/dist-packages (from nbformat>=4.2.0->ipywidgets->jupyter->pywedge) (2.6.0)\n",
            "Requirement already satisfied: ptyprocess; os_name != \"nt\" in /usr/local/lib/python3.6/dist-packages (from terminado>=0.8.1->notebook->jupyter->pywedge) (0.6.0)\n",
            "Requirement already satisfied: MarkupSafe>=0.23 in /usr/local/lib/python3.6/dist-packages (from jinja2->notebook->jupyter->pywedge) (1.1.1)\n",
            "Requirement already satisfied: webencodings in /usr/local/lib/python3.6/dist-packages (from bleach->nbconvert->jupyter->pywedge) (0.5.1)\n",
            "Requirement already satisfied: packaging in /usr/local/lib/python3.6/dist-packages (from bleach->nbconvert->jupyter->pywedge) (20.4)\n",
            "Installing collected packages: catboost, pywedge\n",
            "Successfully installed catboost-0.24.2 pywedge-0.4.8\n",
            "<class 'pandas.core.frame.DataFrame'>\n",
            "RangeIndex: 381109 entries, 0 to 381108\n",
            "Data columns (total 12 columns):\n",
            " #   Column                Non-Null Count   Dtype  \n",
            "---  ------                --------------   -----  \n",
            " 0   id                    381109 non-null  int64  \n",
            " 1   Gender                381109 non-null  object \n",
            " 2   Age                   381109 non-null  int64  \n",
            " 3   Driving_License       381109 non-null  int64  \n",
            " 4   Region_Code           381109 non-null  float64\n",
            " 5   Previously_Insured    381109 non-null  int64  \n",
            " 6   Vehicle_Age           381109 non-null  object \n",
            " 7   Vehicle_Damage        381109 non-null  object \n",
            " 8   Annual_Premium        381109 non-null  float64\n",
            " 9   Policy_Sales_Channel  381109 non-null  float64\n",
            " 10  Vintage               381109 non-null  int64  \n",
            " 11  Response              381109 non-null  int64  \n",
            "dtypes: float64(3), int64(6), object(3)\n",
            "memory usage: 34.9+ MB\n"
          ],
          "name": "stdout"
        }
      ]
    },
    {
      "cell_type": "code",
      "metadata": {
        "id": "u4DVr7UjUm8G"
      },
      "source": [
        "ppd = pw.Pre_process_data(train, test, c='id', y='Response')\n"
      ],
      "execution_count": 4,
      "outputs": []
    },
    {
      "cell_type": "code",
      "metadata": {
        "id": "ULt1T6qFVDZz",
        "outputId": "21ff67ad-9390-4ace-fdf5-1ccb995e3bc2",
        "colab": {
          "base_uri": "https://localhost:8080/"
        }
      },
      "source": [
        "new_X, new_y, new_test = ppd.dataframe_clean()\n",
        "\n"
      ],
      "execution_count": 5,
      "outputs": [
        {
          "output_type": "stream",
          "text": [
            "Reading the datasets...\n",
            "******************************************\n",
            "\n",
            "Train Dataframe summary...\n",
            "******************************************\n",
            "\n",
            "Your selected train dataframe has 12 columns and 381109 Rows.\n",
            "There are 0 columns that have missing values.\n",
            "Empty DataFrame\n",
            "Columns: [Zero Values, Missing Values, % of Total Values, Total Zero Missing Values, % Total Zero Missing Values, Data Type]\n",
            "Index: []\n",
            "******************************************\n",
            "Class balance summary table\n",
            "0    334399\n",
            "1     46710\n",
            "Name: Response, dtype: int64\n",
            "\n",
            " Class imbalance % is  12.26 %\n",
            "Starting data cleaning...\n",
            "******************************************\n",
            "Do you want to use get_dummies or catcodes to convert categorical to numerical? \n",
            "\tpress 1 for catcodes - Quick info link - https://bit.ly/3lruqtf \n",
            "\tpress 2 for getdummies - Quick info link - https://bit.ly/3d76p7A \n",
            "yes\n",
            "Comleted categorical column transformation\n",
            "******************************************\n",
            "Do you want to standardize the data? \n",
            "\tpress 1 for Standard Scalar - Quick info link - https://bit.ly/2GPyG6w \n",
            "\tpress 2 for Robust Scalar - Quick info link - https://bit.ly/3jFNCD5 \n",
            "\tpress 3 for MinMax Scalar - Quick info link - https://bit.ly/2GKYJvX \n",
            "\tpress n for no standardize\n",
            "1\n",
            "standardization using Standard Scalar completed\n",
            "Do you want to apply SMOTE to oversample the minority class? y/n \n",
            "\tQuick info on SMOTE - https://bit.ly/3nlGCNX \n",
            "y\n"
          ],
          "name": "stdout"
        },
        {
          "output_type": "stream",
          "text": [
            "/usr/local/lib/python3.6/dist-packages/sklearn/externals/six.py:31: FutureWarning: The module is deprecated in version 0.21 and will be removed in version 0.23 since we've dropped support for Python 2.7. Please rely on the official version of six (https://pypi.org/project/six/).\n",
            "  \"(https://pypi.org/project/six/).\", FutureWarning)\n",
            "/usr/local/lib/python3.6/dist-packages/sklearn/utils/deprecation.py:144: FutureWarning: The sklearn.neighbors.base module is  deprecated in version 0.22 and will be removed in version 0.24. The corresponding classes / functions should instead be imported from sklearn.neighbors. Anything that cannot be imported from sklearn.neighbors is now part of the private API.\n",
            "  warnings.warn(message, FutureWarning)\n",
            "/usr/local/lib/python3.6/dist-packages/sklearn/utils/validation.py:760: DataConversionWarning: A column-vector y was passed when a 1d array was expected. Please change the shape of y to (n_samples, ), for example using ravel().\n",
            "  y = column_or_1d(y, warn=True)\n",
            "/usr/local/lib/python3.6/dist-packages/sklearn/utils/deprecation.py:87: FutureWarning: Function safe_indexing is deprecated; safe_indexing is deprecated in version 0.22 and will be removed in version 0.24.\n",
            "  warnings.warn(msg, category=FutureWarning)\n"
          ],
          "name": "stderr"
        },
        {
          "output_type": "stream",
          "text": [
            "Oversampling using SMOTE completed\n"
          ],
          "name": "stdout"
        }
      ]
    },
    {
      "cell_type": "code",
      "metadata": {
        "id": "YciZ_-xMVRqZ"
      },
      "source": [
        "X = new_X\n",
        "y = new_y\n",
        "so_test = new_test"
      ],
      "execution_count": 7,
      "outputs": []
    },
    {
      "cell_type": "code",
      "metadata": {
        "id": "38cyy6H5Vjil"
      },
      "source": [
        "blm = pw.baseline_model(X,y)\n"
      ],
      "execution_count": 8,
      "outputs": []
    },
    {
      "cell_type": "code",
      "metadata": {
        "id": "Zv_y1nf2Vnx1",
        "outputId": "abcf5d2c-dd55-4d6b-9f3c-4225168e9820",
        "colab": {
          "base_uri": "https://localhost:8080/"
        }
      },
      "source": [
        "blm.classification_summary()\n"
      ],
      "execution_count": 9,
      "outputs": [
        {
          "output_type": "stream",
          "text": [
            "Starting classification_summary...\n",
            "TOP 10 FEATURE IMPORTANCE\n",
            "Policy_Sales_Channel     0.42\n",
            "Region_Code              0.26\n",
            "Age                      0.20\n",
            "Vehicle_Damage_Yes       0.06\n",
            "Previously_Insured       0.04\n",
            "Annual_Premium           0.02\n",
            "Vehicle_Age_> 2 Years    0.00\n",
            "Vehicle_Age_< 1 Year     0.00\n",
            "Gender_Male              0.00\n",
            "Vintage                  0.00\n",
            "dtype: float64\n",
            "Please enter test size (for eg. please enter 0.20 for 20% test size):\n",
            "0.20\n",
            "Logistic       | acc_score = 0.784 | roc_score = 0.783 | f1_score(macro) = 0.775 | Train time = 1.922s | Pred. time = 0.005s\n",
            "KNN(3)         | acc_score = 0.881 | roc_score = 0.881 | f1_score(macro) = 0.880 | Train time = 297.037s | Pred. time = 128.697s\n",
            "Decision Tree  | acc_score = 0.813 | roc_score = 0.813 | f1_score(macro) = 0.811 | Train time = 2.828s | Pred. time = 0.012s\n",
            "Random Forest  | acc_score = 0.810 | roc_score = 0.810 | f1_score(macro) = 0.805 | Train time = 9.038s | Pred. time = 0.108s\n",
            "Neural Net     | acc_score = 0.792 | roc_score = 0.792 | f1_score(macro) = 0.786 | Train time = 49.787s | Pred. time = 0.163s\n",
            "XGBoost        | acc_score = 0.807 | roc_score = 0.807 | f1_score(macro) = 0.801 | Train time = 5.049s | Pred. time = 0.053s\n",
            "AdaBoost       | acc_score = 0.807 | roc_score = 0.807 | f1_score(macro) = 0.804 | Train time = 35.326s | Pred. time = 1.008s\n",
            "CatBoost       | acc_score = 0.905 | roc_score = 0.905 | f1_score(macro) = 0.905 | Train time = 186.682s | Pred. time = 0.358s\n",
            "Naive Bayes    | acc_score = 0.784 | roc_score = 0.784 | f1_score(macro) = 0.776 | Train time = 0.184s | Pred. time = 0.039s\n",
            "QDA            | acc_score = 0.784 | roc_score = 0.784 | f1_score(macro) = 0.776 | Train time = 0.424s | Pred. time = 0.048s\n"
          ],
          "name": "stdout"
        }
      ]
    }
  ]
}